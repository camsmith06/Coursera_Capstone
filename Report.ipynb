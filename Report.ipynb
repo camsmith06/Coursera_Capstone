{
  "nbformat": 4,
  "nbformat_minor": 0,
  "metadata": {
    "colab": {
      "name": "Report",
      "provenance": [],
      "collapsed_sections": [],
      "authorship_tag": "ABX9TyPOcplQGNim/EwzLwGRiGWO",
      "include_colab_link": true
    },
    "kernelspec": {
      "name": "python3",
      "display_name": "Python 3"
    }
  },
  "cells": [
    {
      "cell_type": "markdown",
      "metadata": {
        "id": "view-in-github",
        "colab_type": "text"
      },
      "source": [
        "<a href=\"https://colab.research.google.com/github/camsmith06/Coursera_Capstone/blob/main/Report.ipynb\" target=\"_parent\"><img src=\"https://colab.research.google.com/assets/colab-badge.svg\" alt=\"Open In Colab\"/></a>"
      ]
    },
    {
      "cell_type": "code",
      "metadata": {
        "id": "-d-OdMtCzKCY"
      },
      "source": [
        ""
      ],
      "execution_count": null,
      "outputs": []
    },
    {
      "cell_type": "markdown",
      "metadata": {
        "id": "mWVkNE7-zVG5"
      },
      "source": [
        "**Business Problem**"
      ]
    },
    {
      "cell_type": "markdown",
      "metadata": {
        "id": "_IFSz4GLzSwT"
      },
      "source": [
        "T​he Premier League is the most competitive club league in football. It is the team with the highest performing individuals that operate best as a team who win the league at the end of the season. Each club tries to invest in players that will generate maximum profit in each of the two transfer windows that occur each season.\n",
        "T​he issue is selecting the correct players to buy to enhance profits most. To do so, it is important to predict which players will improve the greatest amount over the course of the season. Players who improve at the greatest rate will enhance their value the most and therefore can be sold for more profit. In addition to the economic gain, the club will improve their league position if players improve, therefore gaining more fans and attracting more players."
      ]
    },
    {
      "cell_type": "markdown",
      "metadata": {
        "id": "oh240ILVzdgU"
      },
      "source": [
        "**Data**"
      ]
    },
    {
      "cell_type": "markdown",
      "metadata": {
        "id": "NoJihhtUzhGU"
      },
      "source": [
        "T​here are many factors that determine how a player will improve over the next season. As an example, if a club is looking to recruit a striker, one of the most important pieces of data to look at is their goal contributions (goals and assists). The team needs to score to win games, so this is a very important statistic to consider. We must also consider the players age, as younger players have greater potential for growth than older players. Other statistics to consider are current club, experience and value."
      ]
    },
    {
      "cell_type": "code",
      "metadata": {
        "id": "_BKBHZV8zhkW"
      },
      "source": [
        ""
      ],
      "execution_count": null,
      "outputs": []
    }
  ]
}